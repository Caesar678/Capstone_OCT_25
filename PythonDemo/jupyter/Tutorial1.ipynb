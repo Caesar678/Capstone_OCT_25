{
 "cells": [
  {
   "cell_type": "markdown",
   "metadata": {
    "id": "KC32la1OULqe"
   },
   "source": [
    "## **Introduction**\n",
    "This is the tutorial for learning python and numpy\n",
    "\n",
    "## **Table of contents**\n",
    "1. Different data types in Python\n",
    "2. Array/Matrix in Numpy\n",
    "\n"
   ]
  },
  {
   "cell_type": "markdown",
   "metadata": {
    "id": "9wtegkalVljw"
   },
   "source": [
    "## **Data types in Python**"
   ]
  },
  {
   "cell_type": "markdown",
   "metadata": {
    "id": "T9f2wLpyWSJ-"
   },
   "source": [
    "#### **Numbers**"
   ]
  },
  {
   "cell_type": "code",
   "execution_count": null,
   "metadata": {
    "id": "inAAexZpT1oE"
   },
   "outputs": [],
   "source": [
    "x = 3\n",
    "print(type(x)) # Prints \"<class 'int'>\"\n",
    "print(x)       # Prints \"3\"\n",
    "print(x + 1)   # Addition; prints \"4\"\n",
    "print(x - 1)   # Subtraction; prints \"2\"\n",
    "print(x * 2)   # Multiplication; prints \"6\"\n",
    "print(x ** 2)  # Exponentiation; prints \"9\"\n",
    "x += 1\n",
    "print(x)  # Prints \"4\"\n",
    "x *= 2\n",
    "print(x)  # Prints \"8\"\n",
    "y = 2.5\n",
    "print(type(y)) # Prints \"<class 'float'>\"\n",
    "print(y, y + 1, y * 2, y ** 2) # Prints \"2.5 3.5 5.0 6.25\""
   ]
  },
  {
   "cell_type": "code",
   "execution_count": null,
   "metadata": {
    "id": "OrVjd5KgWd7V"
   },
   "outputs": [],
   "source": [
    "x = 3"
   ]
  },
  {
   "cell_type": "code",
   "execution_count": null,
   "metadata": {
    "id": "N0p4oNL4Wd1d"
   },
   "outputs": [],
   "source": [
    "# Copy and Paste any of the above operation in here!!!!\n",
    "# e.g. print(type(x))\n",
    "\n",
    "# Or you can uncomment below statement by Ctrl+/\n",
    "# print(type(x))"
   ]
  },
  {
   "cell_type": "markdown",
   "metadata": {
    "id": "Q3KbeLDvW1yG"
   },
   "source": [
    "#### **Booleans**"
   ]
  },
  {
   "cell_type": "code",
   "execution_count": null,
   "metadata": {
    "id": "3sqpek2aW0PM"
   },
   "outputs": [],
   "source": [
    "t = True\n",
    "f = False\n",
    "print(type(t)) # Prints \"<class 'bool'>\"\n",
    "print(t and f) # Logical AND; prints \"False\"\n",
    "print(t or f)  # Logical OR; prints \"True\"\n",
    "print(not t)   # Logical NOT; prints \"False\"\n",
    "print(t != f)  # Logical XOR; prints \"True\""
   ]
  },
  {
   "cell_type": "code",
   "execution_count": null,
   "metadata": {
    "id": "qHEeY7mbW0GF"
   },
   "outputs": [],
   "source": [
    "# Try yourself here"
   ]
  },
  {
   "cell_type": "markdown",
   "metadata": {
    "id": "JtvUEyaEW77r"
   },
   "source": [
    "#### **Strings**"
   ]
  },
  {
   "cell_type": "code",
   "execution_count": 2,
   "metadata": {
    "id": "V57N7crBW9bU"
   },
   "outputs": [
    {
     "name": "stdout",
     "output_type": "stream",
     "text": [
      "hello\n",
      "5\n",
      "hello world\n",
      "hello world 12\n"
     ]
    }
   ],
   "source": [
    "hello = 'hello'    # String literals can use single quotes\n",
    "world = \"world\"    # or double quotes; it does not matter.\n",
    "print(hello)       # Prints \"hello\"\n",
    "print(len(hello))  # String length; prints \"5\"\n",
    "hw = hello + ' ' + world  # String concatenation\n",
    "print(hw)  # prints \"hello world\"\n",
    "hw12 = '%s %s %d' % (hello, world, 12)  # sprintf style string formatting\n",
    "print(hw12)  # prints \"hello world 12\""
   ]
  },
  {
   "cell_type": "code",
   "execution_count": null,
   "metadata": {
    "id": "cgc3DK_ThfgE"
   },
   "outputs": [],
   "source": [
    "# Try yourself here"
   ]
  },
  {
   "cell_type": "markdown",
   "metadata": {
    "id": "D1WXvfoghho8"
   },
   "source": [
    "### **List**"
   ]
  },
  {
   "cell_type": "code",
   "execution_count": null,
   "metadata": {
    "id": "RnCoAIHahkdE"
   },
   "outputs": [],
   "source": [
    "xs = [3, 1, 2]    # Create a list\n",
    "print(xs, xs[2])  # Prints \"[3, 1, 2] 2\"\n",
    "print(xs[-1])     # Negative indices count from the end of the list; prints \"2\"\n",
    "xs[2] = 'foo'     # Lists can contain elements of different types\n",
    "print(xs)         # Prints \"[3, 1, 'foo']\"\n",
    "xs.append('bar')  # Add a new element to the end of the list\n",
    "print(xs)         # Prints \"[3, 1, 'foo', 'bar']\"\n",
    "x = xs.pop()      # Remove and return the last element of the list\n",
    "print(x, xs)      # Prints \"bar [3, 1, 'foo']\""
   ]
  },
  {
   "cell_type": "code",
   "execution_count": 1,
   "metadata": {
    "id": "ll5er2Wmho5j"
   },
   "outputs": [],
   "source": [
    "# Try yourself here"
   ]
  },
  {
   "cell_type": "markdown",
   "metadata": {
    "id": "Ubjm1IKmhqhL"
   },
   "source": [
    "#### **List: Slicing**"
   ]
  },
  {
   "cell_type": "code",
   "execution_count": null,
   "metadata": {
    "id": "mWVzZaTjnGFj"
   },
   "outputs": [],
   "source": [
    "nums = list(range(5))     # range is a built-in function that creates a list of integers\n",
    "print(nums)               # Prints \"[0, 1, 2, 3, 4]\"\n",
    "print(nums[2:4])          # Get a slice from index 2 to 4 (exclusive); prints \"[2, 3]\"\n",
    "print(nums[2:])           # Get a slice from index 2 to the end; prints \"[2, 3, 4]\"\n",
    "print(nums[:2])           # Get a slice from the start to index 2 (exclusive); prints \"[0, 1]\"\n",
    "print(nums[:])            # Get a slice of the whole list; prints \"[0, 1, 2, 3, 4]\"\n",
    "print(nums[:-1])          # Slice indices can be negative; prints \"[0, 1, 2, 3]\"\n",
    "nums[2:4] = [8, 9]        # Assign a new sublist to a slice\n",
    "print(nums)               # Prints \"[0, 1, 8, 9, 4]\""
   ]
  },
  {
   "cell_type": "code",
   "execution_count": null,
   "metadata": {
    "id": "a6LavBBXnJ3L"
   },
   "outputs": [],
   "source": [
    "# Try yourself here"
   ]
  },
  {
   "cell_type": "markdown",
   "metadata": {
    "id": "kR_HRX8CnLbz"
   },
   "source": [
    "#### **List: Loops**"
   ]
  },
  {
   "cell_type": "code",
   "execution_count": null,
   "metadata": {
    "id": "gDEcdjdonQeC"
   },
   "outputs": [],
   "source": [
    "animals = ['cat', 'dog', 'monkey']\n",
    "for animal in animals:\n",
    "    print(animal)"
   ]
  },
  {
   "cell_type": "markdown",
   "metadata": {
    "id": "T7FqzhE6nWm6"
   },
   "source": [
    "### **Dictionaries**"
   ]
  },
  {
   "cell_type": "code",
   "execution_count": null,
   "metadata": {
    "id": "TMmC5TnNntmZ"
   },
   "outputs": [],
   "source": [
    "d = {'cat': 'cute', 'dog': 'furry'}  # Create a new dictionary with some data\n",
    "print(d['cat'])       # Get an entry from a dictionary; prints \"cute\"\n",
    "print('cat' in d)     # Check if a dictionary has a given key; prints \"True\"\n",
    "d['fish'] = 'wet'     # Set an entry in a dictionary\n",
    "print(d['fish'])      # Prints \"wet\"\n",
    "# print(d['monkey'])  # KeyError: 'monkey' not a key of d\n",
    "print(d.get('monkey', 'N/A'))  # Get an element with a default; prints \"N/A\"\n",
    "print(d.get('fish', 'N/A'))    # Get an element with a default; prints \"wet\"\n",
    "del d['fish']         # Remove an element from a dictionary\n",
    "print(d.get('fish', 'N/A')) # \"fish\" is no longer a key; prints \"N/A\""
   ]
  },
  {
   "cell_type": "markdown",
   "metadata": {
    "id": "RVl92RR2n8b4"
   },
   "source": [
    "## **Array/Matrix**"
   ]
  },
  {
   "cell_type": "markdown",
   "metadata": {
    "id": "IfZrRLptoL_o"
   },
   "source": [
    "We need to import neceessary library"
   ]
  },
  {
   "cell_type": "code",
   "execution_count": null,
   "metadata": {
    "id": "mXprTCI0oU7v"
   },
   "outputs": [],
   "source": [
    "import numpy as np"
   ]
  },
  {
   "cell_type": "markdown",
   "metadata": {
    "id": "5zioSUVioIwQ"
   },
   "source": [
    "* In NumPy, each dimension is called an **axis**.\n",
    "* The number of axes is called the **rank**.\n",
    "    * For example, the above 3x4 matrix is an array of rank 2 (it is 2-dimensional).\n",
    "    * The first axis has length 3, the second has length 4.\n",
    "* An array's list of axis lengths is called the **shape** of the array.\n",
    "    * For example, the above matrix's shape is `(3, 4)`.\n",
    "    * The rank is equal to the shape's length.\n",
    "* The **size** of an array is the total number of elements, which is the product of all axis lengths (eg. 3*4=12)"
   ]
  },
  {
   "cell_type": "code",
   "execution_count": null,
   "metadata": {
    "id": "_mWhhzqmogaH"
   },
   "outputs": [],
   "source": [
    "a = np.zeros((3,4))\n",
    "a"
   ]
  },
  {
   "cell_type": "code",
   "execution_count": null,
   "metadata": {
    "id": "5LUdAIETrZmn"
   },
   "outputs": [],
   "source": [
    "a.shape"
   ]
  },
  {
   "cell_type": "code",
   "execution_count": null,
   "metadata": {
    "id": "PfOztOairbbW"
   },
   "outputs": [],
   "source": [
    "a.ndim"
   ]
  },
  {
   "cell_type": "code",
   "execution_count": null,
   "metadata": {
    "id": "wxd_r5GSrcxW"
   },
   "outputs": [],
   "source": [
    "a.size # total of elements"
   ]
  },
  {
   "cell_type": "markdown",
   "metadata": {
    "id": "NDoAdj2Orhol"
   },
   "source": [
    "* Documentation of\n",
    "[numpy](https://numpy.org/doc/)"
   ]
  },
  {
   "cell_type": "markdown",
   "metadata": {
    "id": "O8K5Gd8U0S6o"
   },
   "source": [
    "Different from school, we cannot teach all the functions build-in in Numpy since codes are updating every week and day and not all functions are fits for your needs (Dont waste the time). What you can do is to learn how to search and implementation quickly. \n",
    "\n",
    "p.s. Learn how to \"Ask Questions\" in google!!!!!!"
   ]
  },
  {
   "cell_type": "markdown",
   "metadata": {
    "id": "aveRLj3uogzH"
   },
   "source": [
    "## Homework"
   ]
  },
  {
   "cell_type": "markdown",
   "metadata": {
    "id": "NfY8Ng8O6XvZ"
   },
   "source": [
    "[Exercise](https://colab.research.google.com/drive/1X6Bfv14y_lZ2Y6P0HdURjTWKO8NuDUIT#scrollTo=jihSumnP5quv)"
   ]
  },
  {
   "cell_type": "markdown",
   "metadata": {
    "id": "8M7DFxc8VBvb"
   },
   "source": [
    "## Reference \n",
    "[Part1](https://cs231n.github.io/python-numpy-tutorial/) \\\n",
    "[Part2](https://colab.research.google.com/github/ageron/handson-ml2/blob/master/tools_numpy.ipynb#scrollTo=miyVQ-Z0U7VI)"
   ]
  }
 ],
 "metadata": {
  "colab": {
   "authorship_tag": "ABX9TyM7SXYLw0AaqghDyApa0wPP",
   "provenance": []
  },
  "kernelspec": {
   "display_name": "Python 3",
   "language": "python",
   "name": "python3"
  },
  "language_info": {
   "codemirror_mode": {
    "name": "ipython",
    "version": 3
   },
   "file_extension": ".py",
   "mimetype": "text/x-python",
   "name": "python",
   "nbconvert_exporter": "python",
   "pygments_lexer": "ipython3",
   "version": "3.6.9"
  }
 },
 "nbformat": 4,
 "nbformat_minor": 1
}
